{
  "nbformat": 4,
  "nbformat_minor": 0,
  "metadata": {
    "kernelspec": {
      "display_name": "Python 3",
      "language": "python",
      "name": "python3"
    },
    "language_info": {
      "codemirror_mode": {
        "name": "ipython",
        "version": 3
      },
      "file_extension": ".py",
      "mimetype": "text/x-python",
      "name": "python",
      "nbconvert_exporter": "python",
      "pygments_lexer": "ipython3",
      "version": "3.7.3"
    },
    "colab": {
      "name": "NumPy Library.ipynb",
      "provenance": [],
      "collapsed_sections": [
        "yzwrU8K4uqOp",
        "kZuGKuFJuqPV",
        "yhnjWj1auqQH",
        "KnPk0p2buqQy",
        "7afhktYwuqRC",
        "XA-NwvhUuqRP",
        "b-0rcg1luqR0",
        "0tfZSflBuqSG",
        "63_beNB0uqSc",
        "vxUMZ0TUuqSt"
      ]
    }
  },
  "cells": [
    {
      "cell_type": "markdown",
      "metadata": {
        "id": "7pFwdhGfuqNl",
        "colab_type": "text"
      },
      "source": [
        "# NumPy Library Basics"
      ]
    },
    {
      "cell_type": "markdown",
      "metadata": {
        "id": "4R4CFiXyuqNo",
        "colab_type": "text"
      },
      "source": [
        "The Numpy library is the core library for the scientific computing in python.It provides a high performance \n",
        "multidimensional array objects,and tools for working with these arrays.\n",
        "\n",
        "One of the most commonly used functions of NumPy are NumPy arrays: The essential differences between lists and NumPy arrays are-\n",
        "\n",
        "\n",
        "*   Less Memory\n",
        "*   Fast\n",
        "*   Convenient\n",
        "\n",
        "\n",
        "lists gives you basic operation, but NumPy adds FFTs, convolutions, fast searching, basic statistics, linear algebra, histograms, etc.\n",
        "The most important difference for data science is the ability to do element-wise calculations with NumPy arrays.\n",
        "\n",
        "**axis 0 always refers to row and axis 1 always refers to column**"
      ]
    },
    {
      "cell_type": "markdown",
      "metadata": {
        "id": "R7bTfcu2uqNr",
        "colab_type": "text"
      },
      "source": [
        "# Creating Arrays"
      ]
    },
    {
      "cell_type": "code",
      "metadata": {
        "id": "ulk-TctuuqNu",
        "colab_type": "code",
        "colab": {}
      },
      "source": [
        "import numpy as np\n",
        "\n",
        "a=np.array([1,2,3]) #1d array\n",
        "b=np.array([(1,2,7),(4,5,6)]) #2d array"
      ],
      "execution_count": 0,
      "outputs": []
    },
    {
      "cell_type": "markdown",
      "metadata": {
        "id": "mlzz6CU7vknR",
        "colab_type": "text"
      },
      "source": [
        "# **Memory Difference between list and Numpy Arrays**"
      ]
    },
    {
      "cell_type": "code",
      "metadata": {
        "id": "3m8caHIAvjh_",
        "colab_type": "code",
        "colab": {
          "base_uri": "https://localhost:8080/",
          "height": 51
        },
        "outputId": "d563ef0c-0498-4ff5-af02-05b38eb466e1"
      },
      "source": [
        "import time\n",
        "import sys\n",
        "S= range(1000)\n",
        "print(sys.getsizeof(5)*len(S))\n",
        " \n",
        "D= np.arange(1000)\n",
        "print(D.size*D.itemsize)"
      ],
      "execution_count": 3,
      "outputs": [
        {
          "output_type": "stream",
          "text": [
            "28000\n",
            "8000\n"
          ],
          "name": "stdout"
        }
      ]
    },
    {
      "cell_type": "markdown",
      "metadata": {
        "id": "sji7_RpuuqN3",
        "colab_type": "text"
      },
      "source": [
        "# Placeholders"
      ]
    },
    {
      "cell_type": "markdown",
      "metadata": {
        "id": "O9L_2o70uqN5",
        "colab_type": "text"
      },
      "source": [
        "np.linspace(0,2,9)-----Add evenly spaced values between interval to array of length\n",
        "\n",
        "np.zeros((1,2))-----Create and array filled with zeros\n",
        "\n",
        "np.ones((1,2))-----Creates an array filled with ones\n",
        "\n",
        "np.random.random((5,5))-----Creates random array\n",
        "\n",
        "np.empty((2,2))-----Creates an empty array"
      ]
    },
    {
      "cell_type": "code",
      "metadata": {
        "id": "DSqNpPEwuqN8",
        "colab_type": "code",
        "colab": {},
        "outputId": "04766574-d861-4834-f791-4ae8c614f8dd"
      },
      "source": [
        "np.zeros((2,4))"
      ],
      "execution_count": 0,
      "outputs": [
        {
          "output_type": "execute_result",
          "data": {
            "text/plain": [
              "array([[0., 0., 0., 0.],\n",
              "       [0., 0., 0., 0.]])"
            ]
          },
          "metadata": {
            "tags": []
          },
          "execution_count": 22
        }
      ]
    },
    {
      "cell_type": "code",
      "metadata": {
        "id": "D8JLq-EwuqOE",
        "colab_type": "code",
        "colab": {},
        "outputId": "c192aa08-5bd0-42b6-f992-2d71dae35e99"
      },
      "source": [
        "np.ones((2,3,4),dtype=np.int16)"
      ],
      "execution_count": 0,
      "outputs": [
        {
          "output_type": "execute_result",
          "data": {
            "text/plain": [
              "array([[[1, 1, 1, 1],\n",
              "        [1, 1, 1, 1],\n",
              "        [1, 1, 1, 1]],\n",
              "\n",
              "       [[1, 1, 1, 1],\n",
              "        [1, 1, 1, 1],\n",
              "        [1, 1, 1, 1]]], dtype=int16)"
            ]
          },
          "metadata": {
            "tags": []
          },
          "execution_count": 23
        }
      ]
    },
    {
      "cell_type": "code",
      "metadata": {
        "id": "BNELZ9V7uqOK",
        "colab_type": "code",
        "colab": {}
      },
      "source": [
        "d=np.arange(10,25,5)\n"
      ],
      "execution_count": 0,
      "outputs": []
    },
    {
      "cell_type": "code",
      "metadata": {
        "id": "hcfdgAnJuqOQ",
        "colab_type": "code",
        "colab": {},
        "outputId": "51d00aa2-33e6-4dc3-9043-d0911ef7ccbb"
      },
      "source": [
        "np.linspace(0,2,9)"
      ],
      "execution_count": 0,
      "outputs": [
        {
          "output_type": "execute_result",
          "data": {
            "text/plain": [
              "array([0.  , 0.25, 0.5 , 0.75, 1.  , 1.25, 1.5 , 1.75, 2.  ])"
            ]
          },
          "metadata": {
            "tags": []
          },
          "execution_count": 28
        }
      ]
    },
    {
      "cell_type": "code",
      "metadata": {
        "id": "QqNEcENtuqOV",
        "colab_type": "code",
        "colab": {}
      },
      "source": [
        "e=np.full((2,2),7)"
      ],
      "execution_count": 0,
      "outputs": []
    },
    {
      "cell_type": "code",
      "metadata": {
        "id": "kIehrhgXuqOZ",
        "colab_type": "code",
        "colab": {}
      },
      "source": [
        "f=np.eye(2)"
      ],
      "execution_count": 0,
      "outputs": []
    },
    {
      "cell_type": "code",
      "metadata": {
        "id": "UwZypLm3uqOe",
        "colab_type": "code",
        "colab": {},
        "outputId": "78b65282-df48-41c5-e824-b3d726abe6c2"
      },
      "source": [
        "np.random.random((2,2))"
      ],
      "execution_count": 0,
      "outputs": [
        {
          "output_type": "execute_result",
          "data": {
            "text/plain": [
              "array([[0.67231927, 0.01269229],\n",
              "       [0.06806771, 0.71122386]])"
            ]
          },
          "metadata": {
            "tags": []
          },
          "execution_count": 32
        }
      ]
    },
    {
      "cell_type": "code",
      "metadata": {
        "id": "6ruecbSAuqOk",
        "colab_type": "code",
        "colab": {},
        "outputId": "6298c4bf-94d6-485f-c651-59347c7b19dc"
      },
      "source": [
        "np.empty((3,2))"
      ],
      "execution_count": 0,
      "outputs": [
        {
          "output_type": "execute_result",
          "data": {
            "text/plain": [
              "array([[4.66382113e-310, 0.00000000e+000],\n",
              "       [0.00000000e+000, 0.00000000e+000],\n",
              "       [0.00000000e+000, 0.00000000e+000]])"
            ]
          },
          "metadata": {
            "tags": []
          },
          "execution_count": 33
        }
      ]
    },
    {
      "cell_type": "markdown",
      "metadata": {
        "id": "ImUCp1rFuqOo",
        "colab_type": "text"
      },
      "source": [
        "# Array"
      ]
    },
    {
      "cell_type": "markdown",
      "metadata": {
        "id": "yzwrU8K4uqOp",
        "colab_type": "text"
      },
      "source": [
        "# 1. Array Properties"
      ]
    },
    {
      "cell_type": "markdown",
      "metadata": {
        "id": "9joN7eHTuqOr",
        "colab_type": "text"
      },
      "source": [
        "\n",
        "array.shape-----Dimensions (Rows,Columns)\n",
        "\n",
        "len(array)-----Length of Array\n",
        "\n",
        "array.ndim-----Number of Array Dimensions\n",
        "\n",
        "array.size-----Number of Array Elements\n",
        "\n",
        "array.dtype-----Data Type\n",
        "\n",
        "array.astype(type)-----Converts to Data Type\n",
        "\n",
        "type(array)-----Type of Array"
      ]
    },
    {
      "cell_type": "code",
      "metadata": {
        "id": "nB1EYgMAuqOs",
        "colab_type": "code",
        "colab": {}
      },
      "source": [
        "a=np.array([3,5])"
      ],
      "execution_count": 0,
      "outputs": []
    },
    {
      "cell_type": "code",
      "metadata": {
        "id": "ZAhCIiymuqOy",
        "colab_type": "code",
        "colab": {},
        "outputId": "e7c82191-23c2-4358-90df-3576aedde3a5"
      },
      "source": [
        "a.shape"
      ],
      "execution_count": 0,
      "outputs": [
        {
          "output_type": "execute_result",
          "data": {
            "text/plain": [
              "(2,)"
            ]
          },
          "metadata": {
            "tags": []
          },
          "execution_count": 37
        }
      ]
    },
    {
      "cell_type": "code",
      "metadata": {
        "id": "l1xpQ2nNuqO2",
        "colab_type": "code",
        "colab": {},
        "outputId": "b57f6272-1c52-4ff5-b4f9-a394e4d0395d"
      },
      "source": [
        "len(a)"
      ],
      "execution_count": 0,
      "outputs": [
        {
          "output_type": "execute_result",
          "data": {
            "text/plain": [
              "2"
            ]
          },
          "metadata": {
            "tags": []
          },
          "execution_count": 38
        }
      ]
    },
    {
      "cell_type": "code",
      "metadata": {
        "id": "GPgqmPfCuqO6",
        "colab_type": "code",
        "colab": {},
        "outputId": "8b8ee1b0-3367-4253-fb27-46036ccf84b4"
      },
      "source": [
        "a.ndim"
      ],
      "execution_count": 0,
      "outputs": [
        {
          "output_type": "execute_result",
          "data": {
            "text/plain": [
              "1"
            ]
          },
          "metadata": {
            "tags": []
          },
          "execution_count": 41
        }
      ]
    },
    {
      "cell_type": "code",
      "metadata": {
        "id": "UOn8NiBQuqPC",
        "colab_type": "code",
        "colab": {},
        "outputId": "4be66818-7b35-44d5-d717-4c9e82908a23"
      },
      "source": [
        "a.size"
      ],
      "execution_count": 0,
      "outputs": [
        {
          "output_type": "execute_result",
          "data": {
            "text/plain": [
              "2"
            ]
          },
          "metadata": {
            "tags": []
          },
          "execution_count": 39
        }
      ]
    },
    {
      "cell_type": "code",
      "metadata": {
        "id": "biqEV-cruqPH",
        "colab_type": "code",
        "colab": {},
        "outputId": "9a1df850-9276-42ed-9367-f49778fd1e90"
      },
      "source": [
        "a.dtype"
      ],
      "execution_count": 0,
      "outputs": [
        {
          "output_type": "execute_result",
          "data": {
            "text/plain": [
              "dtype('int64')"
            ]
          },
          "metadata": {
            "tags": []
          },
          "execution_count": 40
        }
      ]
    },
    {
      "cell_type": "code",
      "metadata": {
        "id": "TStdWaKhuqPL",
        "colab_type": "code",
        "colab": {},
        "outputId": "24aed626-7935-4e8b-dd9b-15abad20724e"
      },
      "source": [
        "a.astype"
      ],
      "execution_count": 0,
      "outputs": [
        {
          "output_type": "execute_result",
          "data": {
            "text/plain": [
              "<function ndarray.astype>"
            ]
          },
          "metadata": {
            "tags": []
          },
          "execution_count": 42
        }
      ]
    },
    {
      "cell_type": "code",
      "metadata": {
        "id": "nSAADa5luqPR",
        "colab_type": "code",
        "colab": {},
        "outputId": "2a6f0231-b98a-4b94-cb5f-e8ffcfe0a91e"
      },
      "source": [
        "type(a)"
      ],
      "execution_count": 0,
      "outputs": [
        {
          "output_type": "execute_result",
          "data": {
            "text/plain": [
              "numpy.ndarray"
            ]
          },
          "metadata": {
            "tags": []
          },
          "execution_count": 43
        }
      ]
    },
    {
      "cell_type": "markdown",
      "metadata": {
        "id": "kZuGKuFJuqPV",
        "colab_type": "text"
      },
      "source": [
        "# Arithmetic Operation "
      ]
    },
    {
      "cell_type": "markdown",
      "metadata": {
        "id": "RaK-1DTRuqPW",
        "colab_type": "text"
      },
      "source": [
        "np.add(x,y)Addition of x + y\n",
        "\n",
        "np.substract(x,y)Subtraction of x - y\n",
        "\n",
        "np.divide(x,y)\n",
        "x / yDivision\n",
        "\n",
        "np.multiply(x,y)\n",
        "x @ yMultiplication\n",
        "\n",
        "np.sqrt(x)SquareRoot\n",
        "\n",
        "np.sin(x)Element-wise sine\n",
        "\n",
        "np.cos(x)Element-wise cosine\n",
        "\n",
        "np.log(x)Element-wise natural log\n",
        "\n",
        "np.dot(x,y)Dot product\n",
        "\n",
        "Remember: NumPy array operations work element-wise."
      ]
    },
    {
      "cell_type": "code",
      "metadata": {
        "id": "BpaxdkWsuqPY",
        "colab_type": "code",
        "colab": {},
        "outputId": "8af68708-8c3a-477d-c6ea-c8836accf470"
      },
      "source": [
        "a=np.array([3,2])\n",
        "b=np.array([2,3])\n",
        "print(np.add(a,b)) #Addition"
      ],
      "execution_count": 0,
      "outputs": [
        {
          "output_type": "stream",
          "text": [
            "[5 5]\n"
          ],
          "name": "stdout"
        }
      ]
    },
    {
      "cell_type": "code",
      "metadata": {
        "id": "AssCRMovuqPk",
        "colab_type": "code",
        "colab": {},
        "outputId": "cb000bf0-bf76-4ae7-8896-5b32f83f2dc5"
      },
      "source": [
        "a=np.array([3,2])\n",
        "b=np.array([2,3])\n",
        "print(np.subtract(a,b)) #subtraction"
      ],
      "execution_count": 0,
      "outputs": [
        {
          "output_type": "stream",
          "text": [
            "[ 1 -1]\n"
          ],
          "name": "stdout"
        }
      ]
    },
    {
      "cell_type": "code",
      "metadata": {
        "id": "QxqV2uuAuqPp",
        "colab_type": "code",
        "colab": {},
        "outputId": "95c7bdd2-c86c-4816-d4a6-55f3f87223ca"
      },
      "source": [
        "a=np.array([3,2])\n",
        "b=np.array([2,3])\n",
        "print(np.divide(a,b)) #divide"
      ],
      "execution_count": 0,
      "outputs": [
        {
          "output_type": "stream",
          "text": [
            "[1.5        0.66666667]\n"
          ],
          "name": "stdout"
        }
      ]
    },
    {
      "cell_type": "code",
      "metadata": {
        "id": "Qo0qpmvuuqPt",
        "colab_type": "code",
        "colab": {},
        "outputId": "5e09a565-a439-46f8-fd55-05232cca743f"
      },
      "source": [
        "a=np.array([3,2])\n",
        "b=np.array([2,3])\n",
        "print(np.multiply(a,b)) #multiply"
      ],
      "execution_count": 0,
      "outputs": [
        {
          "output_type": "stream",
          "text": [
            "[6 6]\n"
          ],
          "name": "stdout"
        }
      ]
    },
    {
      "cell_type": "code",
      "metadata": {
        "id": "TSgbCxMYuqPz",
        "colab_type": "code",
        "colab": {},
        "outputId": "0071c397-2339-4c30-b395-77ac4a15c710"
      },
      "source": [
        "a=np.array([3,2])\n",
        "print(np.sqrt(a)) #square"
      ],
      "execution_count": 0,
      "outputs": [
        {
          "output_type": "stream",
          "text": [
            "[1.73205081 1.41421356]\n"
          ],
          "name": "stdout"
        }
      ]
    },
    {
      "cell_type": "code",
      "metadata": {
        "id": "G0UFmCLuuqP3",
        "colab_type": "code",
        "colab": {},
        "outputId": "08913fc8-4810-4d22-9dfa-39b7dd78f2c6"
      },
      "source": [
        "a=np.array([3,2])\n",
        "print(np.sin(a)) #sin function"
      ],
      "execution_count": 0,
      "outputs": [
        {
          "output_type": "stream",
          "text": [
            "[0.14112001 0.90929743]\n"
          ],
          "name": "stdout"
        }
      ]
    },
    {
      "cell_type": "code",
      "metadata": {
        "id": "TtYOMXP5uqP7",
        "colab_type": "code",
        "colab": {},
        "outputId": "70e10b48-8d5b-42ed-8e82-3d217afbecd1"
      },
      "source": [
        "a=np.array([3,2])\n",
        "print(np.cos(a)) #cos function"
      ],
      "execution_count": 0,
      "outputs": [
        {
          "output_type": "stream",
          "text": [
            "[-0.9899925  -0.41614684]\n"
          ],
          "name": "stdout"
        }
      ]
    },
    {
      "cell_type": "code",
      "metadata": {
        "id": "2RhSFtEJuqP_",
        "colab_type": "code",
        "colab": {},
        "outputId": "010d0a0c-d49d-451a-d472-abd149c97d80"
      },
      "source": [
        "a=np.array([3,2])\n",
        "print(np.log(a)) #log function"
      ],
      "execution_count": 0,
      "outputs": [
        {
          "output_type": "stream",
          "text": [
            "[1.09861229 0.69314718]\n"
          ],
          "name": "stdout"
        }
      ]
    },
    {
      "cell_type": "code",
      "metadata": {
        "id": "hOkZc10kuqQD",
        "colab_type": "code",
        "colab": {},
        "outputId": "55611db5-7b4c-45ba-a044-4ed1e9825838"
      },
      "source": [
        "a=np.array([3,2])\n",
        "b=np.array([2,3])\n",
        "print(np.dot(a,b)) # dot operation"
      ],
      "execution_count": 0,
      "outputs": [
        {
          "output_type": "stream",
          "text": [
            "12\n"
          ],
          "name": "stdout"
        }
      ]
    },
    {
      "cell_type": "markdown",
      "metadata": {
        "id": "yhnjWj1auqQH",
        "colab_type": "text"
      },
      "source": [
        "# Comparison"
      ]
    },
    {
      "cell_type": "code",
      "metadata": {
        "id": "pwhrWs1ZuqQI",
        "colab_type": "code",
        "colab": {}
      },
      "source": [
        "\n",
        "== ----Equal\n",
        "\n",
        "!= ----Not equal\n",
        "\n",
        "< -----Smaller than\n",
        "\n",
        "> -----Greater than\n",
        "\n",
        "<= -----Smaller than or equal\n",
        "\n",
        ">= -----Greater than or equal\n",
        "\n",
        "np.array_equal(x,y) ------Array-wise comparison"
      ],
      "execution_count": 0,
      "outputs": []
    },
    {
      "cell_type": "code",
      "metadata": {
        "id": "CEJfc7pnuqQO",
        "colab_type": "code",
        "colab": {},
        "outputId": "b1d77ef7-9a0f-405e-a0c3-dc9d637ff88e"
      },
      "source": [
        "a=np.array([3,2])\n",
        "b=np.array([2,3])\n",
        "print(a==b) #Equal"
      ],
      "execution_count": 0,
      "outputs": [
        {
          "output_type": "stream",
          "text": [
            "[False False]\n"
          ],
          "name": "stdout"
        }
      ]
    },
    {
      "cell_type": "code",
      "metadata": {
        "id": "h3HvtOKRuqQT",
        "colab_type": "code",
        "colab": {},
        "outputId": "0ed3e3ce-c724-4b56-e8a9-ef0cfd321e1a"
      },
      "source": [
        "a=np.array([3,2])\n",
        "b=np.array([2,3])\n",
        "print(a!=b) #Not equal\n"
      ],
      "execution_count": 0,
      "outputs": [
        {
          "output_type": "stream",
          "text": [
            "[ True  True]\n"
          ],
          "name": "stdout"
        }
      ]
    },
    {
      "cell_type": "code",
      "metadata": {
        "id": "Nzr4MhotuqQZ",
        "colab_type": "code",
        "colab": {},
        "outputId": "d9d49c67-a1bd-4847-d882-0d8e8921e2c8"
      },
      "source": [
        "a=np.array([3,2])\n",
        "b=np.array([2,3])\n",
        "print(a<b) #Smaller than"
      ],
      "execution_count": 0,
      "outputs": [
        {
          "output_type": "stream",
          "text": [
            "[False  True]\n"
          ],
          "name": "stdout"
        }
      ]
    },
    {
      "cell_type": "code",
      "metadata": {
        "id": "jEJjRtI1uqQf",
        "colab_type": "code",
        "colab": {},
        "outputId": "be6aab45-4499-48f9-b242-642a7649bb1d"
      },
      "source": [
        "a=np.array([3,2])\n",
        "b=np.array([2,3])\n",
        "print(a>b) #Greater than"
      ],
      "execution_count": 0,
      "outputs": [
        {
          "output_type": "stream",
          "text": [
            "[ True False]\n"
          ],
          "name": "stdout"
        }
      ]
    },
    {
      "cell_type": "code",
      "metadata": {
        "id": "Wn3MnnQvuqQl",
        "colab_type": "code",
        "colab": {},
        "outputId": "0987c7c8-e5a1-4a2e-b99b-2796bf687952"
      },
      "source": [
        "a=np.array([3,2])\n",
        "b=np.array([2,3])\n",
        "print(a<=b) #Smaller than or equal"
      ],
      "execution_count": 0,
      "outputs": [
        {
          "output_type": "stream",
          "text": [
            "[False  True]\n"
          ],
          "name": "stdout"
        }
      ]
    },
    {
      "cell_type": "code",
      "metadata": {
        "id": "KEbTGxJ2uqQq",
        "colab_type": "code",
        "colab": {},
        "outputId": "4b0cba18-9f94-4283-954f-c1e63f96b2ba"
      },
      "source": [
        "a=np.array([3,2])\n",
        "b=np.array([2,3])\n",
        "print(a>=b) #Greater than or equal"
      ],
      "execution_count": 0,
      "outputs": [
        {
          "output_type": "stream",
          "text": [
            "[ True False]\n"
          ],
          "name": "stdout"
        }
      ]
    },
    {
      "cell_type": "code",
      "metadata": {
        "id": "6X57WcqmuqQu",
        "colab_type": "code",
        "colab": {},
        "outputId": "bd554a06-a7a1-4148-9bc7-025be1746891"
      },
      "source": [
        "a=np.array([3,2])\n",
        "b=np.array([2,3])\n",
        "print(np.array_equal(a,b)) #Array-wise comparison"
      ],
      "execution_count": 0,
      "outputs": [
        {
          "output_type": "stream",
          "text": [
            "False\n"
          ],
          "name": "stdout"
        }
      ]
    },
    {
      "cell_type": "markdown",
      "metadata": {
        "id": "KnPk0p2buqQy",
        "colab_type": "text"
      },
      "source": [
        "# Copying/Sorting"
      ]
    },
    {
      "cell_type": "markdown",
      "metadata": {
        "id": "FGLZx1-ruqQz",
        "colab_type": "text"
      },
      "source": [
        "\n",
        "np.copy(array) -----Creates copy of array\n",
        "\n",
        "other = array.copy() -----Creates deep copy of array\n",
        "\n",
        "array.sort() -----Sorts an array\n",
        "\n",
        "array.sort(axis=0) ----Sorts axis of array"
      ]
    },
    {
      "cell_type": "code",
      "metadata": {
        "id": "wsWmq4aQuqQ1",
        "colab_type": "code",
        "colab": {},
        "outputId": "bcd0e1c0-b257-436a-890e-29c4ac74bfc0"
      },
      "source": [
        "a=np.array([3,2])\n",
        "print(np.copy(a)) # Creates copy of array"
      ],
      "execution_count": 0,
      "outputs": [
        {
          "output_type": "stream",
          "text": [
            "[3 2]\n"
          ],
          "name": "stdout"
        }
      ]
    },
    {
      "cell_type": "code",
      "metadata": {
        "id": "wGL5YCvAuqQ4",
        "colab_type": "code",
        "colab": {},
        "outputId": "f571afa9-7489-4dc0-9913-4791cf7a3339"
      },
      "source": [
        "a=np.array([3,2])\n",
        "other=a.copy()\n",
        "print(other) #Creates deep copy of array"
      ],
      "execution_count": 0,
      "outputs": [
        {
          "output_type": "stream",
          "text": [
            "[3 2]\n"
          ],
          "name": "stdout"
        }
      ]
    },
    {
      "cell_type": "code",
      "metadata": {
        "id": "_8Gn87ABuqQ7",
        "colab_type": "code",
        "colab": {},
        "outputId": "1517796e-e86c-4d04-bb96-22e36f32707c"
      },
      "source": [
        "a=np.array([3,2])\n",
        "print(a.sort()) #Sorts an array"
      ],
      "execution_count": 0,
      "outputs": [
        {
          "output_type": "stream",
          "text": [
            "None\n"
          ],
          "name": "stdout"
        }
      ]
    },
    {
      "cell_type": "code",
      "metadata": {
        "id": "puoBcRxMuqQ_",
        "colab_type": "code",
        "colab": {},
        "outputId": "065cc5fb-3d29-408b-f6b1-99f196ec47c9"
      },
      "source": [
        "a=np.array([3,2])\n",
        "print(a.sort(axis=0)) #Sorts axis of array"
      ],
      "execution_count": 0,
      "outputs": [
        {
          "output_type": "stream",
          "text": [
            "None\n"
          ],
          "name": "stdout"
        }
      ]
    },
    {
      "cell_type": "markdown",
      "metadata": {
        "id": "7afhktYwuqRC",
        "colab_type": "text"
      },
      "source": [
        "# Array Manipulation "
      ]
    },
    {
      "cell_type": "markdown",
      "metadata": {
        "id": "3QOzWr4cuqRE",
        "colab_type": "text"
      },
      "source": [
        "\n",
        "np.append(a,b)------Append items to array\n",
        "\n",
        "np.insert(array, 1, 2, axis)-----Insert items into array at axis 0 or 1\n",
        "\n",
        "array.resize((2,4))------Resize array to shape(2,4)\n",
        "\n",
        "np.delete(array,1,axis)------Deletes items from array"
      ]
    },
    {
      "cell_type": "code",
      "metadata": {
        "id": "TwKb_MQGuqRF",
        "colab_type": "code",
        "colab": {},
        "outputId": "0f45dd74-c5f8-4995-a135-d6f4d865fb1c"
      },
      "source": [
        "a=np.array([3,2])\n",
        "b=np.array([2,3])\n",
        "print(np.append(a,b)) #Append items to array"
      ],
      "execution_count": 0,
      "outputs": [
        {
          "output_type": "stream",
          "text": [
            "[3 2 2 3]\n"
          ],
          "name": "stdout"
        }
      ]
    },
    {
      "cell_type": "code",
      "metadata": {
        "id": "ZPvCPS8QuqRJ",
        "colab_type": "code",
        "colab": {},
        "outputId": "f1423393-c10b-4c8e-85e9-b9e6c90075f8"
      },
      "source": [
        "a=np.array([3,2])\n",
        "print(a.resize((2,4))) #Resize array to shape(2,4)"
      ],
      "execution_count": 0,
      "outputs": [
        {
          "output_type": "stream",
          "text": [
            "None\n"
          ],
          "name": "stdout"
        }
      ]
    },
    {
      "cell_type": "markdown",
      "metadata": {
        "id": "XA-NwvhUuqRP",
        "colab_type": "text"
      },
      "source": [
        "# Combining Arrays"
      ]
    },
    {
      "cell_type": "markdown",
      "metadata": {
        "id": "eUmKQQY9uqRT",
        "colab_type": "text"
      },
      "source": [
        "\n",
        "np.concatenate((a,b),axis=0)------Concatenates 2 arrays, adds to end\n",
        "\n",
        "np.vstack((a,b))-------Stack array row-wise\n",
        "\n",
        "np.hstack((a,b))-------Stack array column wise"
      ]
    },
    {
      "cell_type": "code",
      "metadata": {
        "id": "dQVtSJxEuqRW",
        "colab_type": "code",
        "colab": {},
        "outputId": "55a89fdc-4781-497a-da09-fa1473a52d24"
      },
      "source": [
        "a = np.array([1, 3, 5])\n",
        "b = np.array([2, 4, 6])\n",
        "print(np.concatenate((a,b),axis=0)) # Concatenates 2 arrays, adds to end"
      ],
      "execution_count": 0,
      "outputs": [
        {
          "output_type": "stream",
          "text": [
            "[1 3 5 2 4 6]\n"
          ],
          "name": "stdout"
        }
      ]
    },
    {
      "cell_type": "code",
      "metadata": {
        "id": "mK9ONTLYuqRd",
        "colab_type": "code",
        "colab": {},
        "outputId": "5a84e818-4ce2-4172-b0b0-7e6d76c8c336"
      },
      "source": [
        "a = np.array([1, 3, 5])\n",
        "b = np.array([2, 4, 6])\n",
        "print(np.vstack((a,b))) # Stack array row-wise"
      ],
      "execution_count": 0,
      "outputs": [
        {
          "output_type": "stream",
          "text": [
            "[[1 3 5]\n",
            " [2 4 6]]\n"
          ],
          "name": "stdout"
        }
      ]
    },
    {
      "cell_type": "code",
      "metadata": {
        "id": "c4NvInAjuqRp",
        "colab_type": "code",
        "colab": {},
        "outputId": "83800492-ca6b-47c5-c143-e28023b8c3cd"
      },
      "source": [
        "a = np.array([1, 3, 5])\n",
        "b = np.array([2, 4, 6])\n",
        "print(np.hstack((a,b))) #Stack array column wise"
      ],
      "execution_count": 0,
      "outputs": [
        {
          "output_type": "stream",
          "text": [
            "[1 3 5 2 4 6]\n"
          ],
          "name": "stdout"
        }
      ]
    },
    {
      "cell_type": "markdown",
      "metadata": {
        "id": "b-0rcg1luqR0",
        "colab_type": "text"
      },
      "source": [
        "# Splitting Arrays"
      ]
    },
    {
      "cell_type": "markdown",
      "metadata": {
        "id": "xCq7hnExuqR4",
        "colab_type": "text"
      },
      "source": [
        "numpy.split()\n",
        "\n",
        "np.array_split(array,3) -----Split an array in sub-arrays of (nearly) identical size\n",
        "\n",
        "numpy.hsplit(array, 3) ----Split the array horizontally at 3rd index"
      ]
    },
    {
      "cell_type": "code",
      "metadata": {
        "id": "uPdOaQYbuqR7",
        "colab_type": "code",
        "colab": {},
        "outputId": "10f64215-c679-497f-e34d-a0f67ae0c096"
      },
      "source": [
        "a = np.array([1, 2, 3, 4, 5, 6, 7, 8])\n",
        "print(np.array_split(a, 3)) #Split an array in sub-arrays of (nearly) identical size"
      ],
      "execution_count": 0,
      "outputs": [
        {
          "output_type": "stream",
          "text": [
            "[array([1, 2, 3]), array([4, 5, 6]), array([7, 8])]\n"
          ],
          "name": "stdout"
        }
      ]
    },
    {
      "cell_type": "code",
      "metadata": {
        "id": "8uQpsdD7uqSA",
        "colab_type": "code",
        "colab": {},
        "outputId": "a6b41da3-4d5a-4eab-99fb-363cee6d9f56"
      },
      "source": [
        "import numpy as np\n",
        "a = np.array([1, 2, 3, 4, 5, 6, 7, 8])\n",
        "print(np.hsplit(a,1)) #Split the array horizontally at 3rd index"
      ],
      "execution_count": 0,
      "outputs": [
        {
          "output_type": "stream",
          "text": [
            "[array([1, 2, 3, 4, 5, 6, 7, 8])]\n"
          ],
          "name": "stdout"
        }
      ]
    },
    {
      "cell_type": "markdown",
      "metadata": {
        "id": "0tfZSflBuqSG",
        "colab_type": "text"
      },
      "source": [
        "# Slicing and Subsetting"
      ]
    },
    {
      "cell_type": "markdown",
      "metadata": {
        "id": "oSql8je6uqSH",
        "colab_type": "text"
      },
      "source": [
        "\n",
        "array[i]-----1d array at index i\n",
        "\n",
        "array[i,j]-----2d array at index[i][j]\n",
        "\n",
        "array[i<4]-----Boolean Indexing\n",
        "\n",
        "array[0:3]-----Select items of index 0, 1 and 2\n",
        "\n",
        "array[0:2,1]-----Select items of rows 0 and 1 at column 1\n",
        "\n",
        "array[:1]------Select items of row 0 (equals array[0:1, :])\n",
        "\n",
        "array[1:2, :]------Select items of row 1\n",
        "\n",
        "array[ : :-1]-----Reverses arraysee above"
      ]
    },
    {
      "cell_type": "code",
      "metadata": {
        "id": "D4IanZwZuqSH",
        "colab_type": "code",
        "colab": {},
        "outputId": "72f59805-e4fa-4f14-808e-d543db630853"
      },
      "source": [
        "b = np.array([(1, 2, 3), (4, 5, 6)])\n",
        "print(b[0:1, 2])"
      ],
      "execution_count": 0,
      "outputs": [
        {
          "output_type": "stream",
          "text": [
            "[3]\n"
          ],
          "name": "stdout"
        }
      ]
    },
    {
      "cell_type": "code",
      "metadata": {
        "id": "2Wros_JjuqSN",
        "colab_type": "code",
        "colab": {},
        "outputId": "95db0d58-b3b5-4837-8c53-b55e2973126c"
      },
      "source": [
        "b = np.array([(1, 2, 3), (4, 5, 6)])\n",
        "print(b[:len(b), 2])"
      ],
      "execution_count": 0,
      "outputs": [
        {
          "output_type": "stream",
          "text": [
            "[3 6]\n"
          ],
          "name": "stdout"
        }
      ]
    },
    {
      "cell_type": "code",
      "metadata": {
        "id": "UcPYIQ-euqSR",
        "colab_type": "code",
        "colab": {},
        "outputId": "d84023dd-0d45-4463-ca4f-86859ff9125d"
      },
      "source": [
        "b = np.array([(1, 2, 3), (4, 5, 6)])\n",
        "print(b[0, :])"
      ],
      "execution_count": 0,
      "outputs": [
        {
          "output_type": "stream",
          "text": [
            "[1 2 3]\n"
          ],
          "name": "stdout"
        }
      ]
    },
    {
      "cell_type": "code",
      "metadata": {
        "id": "KR1_KP-FuqST",
        "colab_type": "code",
        "colab": {},
        "outputId": "29b000a7-c38f-49c1-f1a8-c6aeca405434"
      },
      "source": [
        "b = np.array([(1, 2, 3), (4, 5, 6)])\n",
        "print(b[0, 2:])"
      ],
      "execution_count": 0,
      "outputs": [
        {
          "output_type": "stream",
          "text": [
            "[3]\n"
          ],
          "name": "stdout"
        }
      ]
    },
    {
      "cell_type": "code",
      "metadata": {
        "id": "Lj3EVX0EuqSW",
        "colab_type": "code",
        "colab": {},
        "outputId": "f63ff490-1f5d-46d2-8969-b768d7bcda66"
      },
      "source": [
        "b = np.array([(1, 2, 3), (4, 5, 6)])\n",
        "print(b[:, 0])"
      ],
      "execution_count": 0,
      "outputs": [
        {
          "output_type": "stream",
          "text": [
            "[1 4]\n"
          ],
          "name": "stdout"
        }
      ]
    },
    {
      "cell_type": "code",
      "metadata": {
        "id": "nt9EYD72uqSa",
        "colab_type": "code",
        "colab": {},
        "outputId": "01b143e5-2501-4701-eccc-4da79d3dfadb"
      },
      "source": [
        "c = np.array([(1, 2, 3), (4, 5, 6)])\n",
        "d = c[1:2, 0:2]\n",
        "print(d)"
      ],
      "execution_count": 0,
      "outputs": [
        {
          "output_type": "stream",
          "text": [
            "[[4 5]]\n"
          ],
          "name": "stdout"
        }
      ]
    },
    {
      "cell_type": "markdown",
      "metadata": {
        "id": "63_beNB0uqSc",
        "colab_type": "text"
      },
      "source": [
        "# Basic Statistics"
      ]
    },
    {
      "cell_type": "markdown",
      "metadata": {
        "id": "868zbPbAuqSd",
        "colab_type": "text"
      },
      "source": [
        "\n",
        "np.mean(array)-----Mean\n",
        "\n",
        "np.median(array)----Median\n",
        "\n",
        "array.corrcoef()-----Correlation Coefficient\n",
        "\n",
        "array.std(array)-----Standard Deviation"
      ]
    },
    {
      "cell_type": "code",
      "metadata": {
        "id": "UC3732A-uqSe",
        "colab_type": "code",
        "colab": {},
        "outputId": "7c24a2b5-5f4d-41ac-eb95-8e392c24ffb2"
      },
      "source": [
        "a = np.array([1, 1, 2, 5, 8, 10, 11, 12])\n",
        "print(np.mean(a)) # Mean"
      ],
      "execution_count": 0,
      "outputs": [
        {
          "output_type": "stream",
          "text": [
            "6.25\n"
          ],
          "name": "stdout"
        }
      ]
    },
    {
      "cell_type": "code",
      "metadata": {
        "id": "mv063DUCuqSi",
        "colab_type": "code",
        "colab": {},
        "outputId": "2e8829c3-4b91-4456-8ce5-1e18c241d715"
      },
      "source": [
        "a = np.array([1, 1, 2, 5, 8, 10, 11, 12])\n",
        "print(np.median(a)) #Median"
      ],
      "execution_count": 0,
      "outputs": [
        {
          "output_type": "stream",
          "text": [
            "6.5\n"
          ],
          "name": "stdout"
        }
      ]
    },
    {
      "cell_type": "code",
      "metadata": {
        "id": "12HUb1UluqSl",
        "colab_type": "code",
        "colab": {},
        "outputId": "f7486ed4-ec13-4da3-c362-9acd68a9c41e"
      },
      "source": [
        "a = np.array([1, 1, 2, 5, 8, 10, 11, 12])\n",
        "print(np.std(a)) #Standard Deviation"
      ],
      "execution_count": 0,
      "outputs": [
        {
          "output_type": "stream",
          "text": [
            "4.293891009329417\n"
          ],
          "name": "stdout"
        }
      ]
    },
    {
      "cell_type": "markdown",
      "metadata": {
        "id": "vxUMZ0TUuqSt",
        "colab_type": "text"
      },
      "source": [
        "# Aggregrate Function"
      ]
    },
    {
      "cell_type": "code",
      "metadata": {
        "id": "1zjT9N7OuqSu",
        "colab_type": "code",
        "colab": {},
        "outputId": "77d6471f-7d8d-47e0-e164-90447269907a"
      },
      "source": [
        "a = np.array([1, 1, 2, 5, 8, 10, 11, 12])\n",
        "a.sum() # Addition"
      ],
      "execution_count": 0,
      "outputs": [
        {
          "output_type": "execute_result",
          "data": {
            "text/plain": [
              "50"
            ]
          },
          "metadata": {
            "tags": []
          },
          "execution_count": 104
        }
      ]
    },
    {
      "cell_type": "code",
      "metadata": {
        "id": "dhr0AmMGuqSx",
        "colab_type": "code",
        "colab": {},
        "outputId": "9ef14f0e-cec6-47dd-8607-d2b69b0aabed"
      },
      "source": [
        "a = np.array([1, 1, 2, 5, 8, 10, 11, 12])\n",
        "a.min() # minimum value"
      ],
      "execution_count": 0,
      "outputs": [
        {
          "output_type": "execute_result",
          "data": {
            "text/plain": [
              "1"
            ]
          },
          "metadata": {
            "tags": []
          },
          "execution_count": 105
        }
      ]
    },
    {
      "cell_type": "code",
      "metadata": {
        "id": "OuVJi2mXuqS0",
        "colab_type": "code",
        "colab": {},
        "outputId": "85e480a8-07ae-499e-9b01-cb2bd7524d93"
      },
      "source": [
        "a = np.array([1, 1, 2, 5, 8, 10, 11, 12])\n",
        "a.max() # maximun value"
      ],
      "execution_count": 0,
      "outputs": [
        {
          "output_type": "execute_result",
          "data": {
            "text/plain": [
              "12"
            ]
          },
          "metadata": {
            "tags": []
          },
          "execution_count": 106
        }
      ]
    },
    {
      "cell_type": "code",
      "metadata": {
        "id": "E2bNP_dwuqS2",
        "colab_type": "code",
        "colab": {},
        "outputId": "dafb2644-fcb0-41c1-d5e9-6d91080c45b0"
      },
      "source": [
        "a = np.array([1, 1, 2, 5, 8, 10, 11, 12])\n",
        "a.cumsum() # cumulative sum of the elements"
      ],
      "execution_count": 0,
      "outputs": [
        {
          "output_type": "execute_result",
          "data": {
            "text/plain": [
              "array([ 1,  2,  4,  9, 17, 27, 38, 50])"
            ]
          },
          "metadata": {
            "tags": []
          },
          "execution_count": 108
        }
      ]
    },
    {
      "cell_type": "code",
      "metadata": {
        "id": "zHnK-XfSuqS6",
        "colab_type": "code",
        "colab": {}
      },
      "source": [
        ""
      ],
      "execution_count": 0,
      "outputs": []
    }
  ]
}